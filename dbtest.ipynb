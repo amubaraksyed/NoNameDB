{
 "cells": [
  {
   "cell_type": "code",
   "execution_count": 1,
   "metadata": {},
   "outputs": [],
   "source": [
    "from lstore.db import Database\n",
    "from lstore.table import Table"
   ]
  },
  {
   "cell_type": "markdown",
   "metadata": {},
   "source": [
    "Initialize a database"
   ]
  },
  {
   "cell_type": "code",
   "execution_count": 2,
   "metadata": {},
   "outputs": [
    {
     "name": "stdout",
     "output_type": "stream",
     "text": [
      "database: <lstore.db.Database object at 0x00000209615476D0>\n"
     ]
    }
   ],
   "source": [
    "db = Database()\n",
    "print(\"database:\", db)"
   ]
  },
  {
   "cell_type": "markdown",
   "metadata": {},
   "source": [
    "Creating tables for database"
   ]
  },
  {
   "cell_type": "code",
   "execution_count": 3,
   "metadata": {},
   "outputs": [
    {
     "name": "stdout",
     "output_type": "stream",
     "text": [
      "database: [<lstore.table.Table object at 0x0000020961546800>, <lstore.table.Table object at 0x0000020961546EC0>, <lstore.table.Table object at 0x0000020961547850>, <lstore.table.Table object at 0x0000020961547AF0>]\n"
     ]
    }
   ],
   "source": [
    "db.create_table('Grades', 5, 0)\n",
    "db.create_table(\"students\", 5, 0)\n",
    "db.create_table(\"Class\", 5, 0)\n",
    "db.create_table(\"GPA\", 5, 0)\n",
    "print(\"database:\", db.tables)"
   ]
  },
  {
   "cell_type": "markdown",
   "metadata": {},
   "source": [
    "Get a database table by name"
   ]
  },
  {
   "cell_type": "code",
   "execution_count": 4,
   "metadata": {},
   "outputs": [
    {
     "name": "stdout",
     "output_type": "stream",
     "text": [
      "<lstore.table.Table object at 0x0000020961546800>\n",
      "table name: Grades\n"
     ]
    }
   ],
   "source": [
    "table1 = db.get_table(\"Grades\")\n",
    "print(table1)\n",
    "print(\"table name:\", table1.name)\n"
   ]
  },
  {
   "cell_type": "code",
   "execution_count": 5,
   "metadata": {},
   "outputs": [
    {
     "name": "stdout",
     "output_type": "stream",
     "text": [
      "<lstore.table.Table object at 0x0000020961547AF0>\n",
      "table name: GPA\n"
     ]
    }
   ],
   "source": [
    "table2 = db.get_table(\"GPA\")\n",
    "print(table2)\n",
    "print(\"table name:\", table2.name)"
   ]
  },
  {
   "cell_type": "code",
   "execution_count": 7,
   "metadata": {},
   "outputs": [
    {
     "name": "stdout",
     "output_type": "stream",
     "text": [
      "<lstore.table.Table object at 0x0000020961546EC0>\n"
     ]
    }
   ],
   "source": [
    "#test case sensitivity\n",
    "table3 = db.get_table(\"students\")\n",
    "print(table3)"
   ]
  },
  {
   "cell_type": "code",
   "execution_count": 9,
   "metadata": {},
   "outputs": [
    {
     "name": "stdout",
     "output_type": "stream",
     "text": [
      "<lstore.table.Table object at 0x0000020961547AF0>\n"
     ]
    }
   ],
   "source": [
    "table4 = db.get_table(\"GPA\")\n",
    "print(table4)"
   ]
  },
  {
   "cell_type": "markdown",
   "metadata": {},
   "source": [
    "Drop database table by name"
   ]
  },
  {
   "cell_type": "code",
   "execution_count": 11,
   "metadata": {},
   "outputs": [
    {
     "name": "stdout",
     "output_type": "stream",
     "text": [
      "Could not delete table grades\n"
     ]
    }
   ],
   "source": [
    "#test case sensitivity\n",
    "db.drop_table(\"grades\")"
   ]
  },
  {
   "cell_type": "code",
   "execution_count": null,
   "metadata": {},
   "outputs": [],
   "source": [
    "db.drop_table(\"Students\")"
   ]
  },
  {
   "cell_type": "code",
   "execution_count": null,
   "metadata": {},
   "outputs": [],
   "source": [
    "db.drop_table(\"Grades\")"
   ]
  },
  {
   "cell_type": "code",
   "execution_count": null,
   "metadata": {},
   "outputs": [
    {
     "name": "stdout",
     "output_type": "stream",
     "text": [
      "[<lstore.table.Table object at 0x00000273B50E47D0>, <lstore.table.Table object at 0x00000273B50E4ED0>, <lstore.table.Table object at 0x00000273B50E4C10>]\n"
     ]
    },
    {
     "ename": "Exception",
     "evalue": "Table Grades not found, could not get",
     "output_type": "error",
     "traceback": [
      "\u001b[1;31m---------------------------------------------------------------------------\u001b[0m",
      "\u001b[1;31mException\u001b[0m                                 Traceback (most recent call last)",
      "Cell \u001b[1;32mIn[8], line 3\u001b[0m\n\u001b[0;32m      1\u001b[0m \u001b[38;5;28mprint\u001b[39m(db\u001b[38;5;241m.\u001b[39mtables)\n\u001b[0;32m      2\u001b[0m db\u001b[38;5;241m.\u001b[39mget_table(\u001b[38;5;124m\"\u001b[39m\u001b[38;5;124mstudents\u001b[39m\u001b[38;5;124m\"\u001b[39m)\n\u001b[1;32m----> 3\u001b[0m \u001b[43mdb\u001b[49m\u001b[38;5;241;43m.\u001b[39;49m\u001b[43mget_table\u001b[49m\u001b[43m(\u001b[49m\u001b[38;5;124;43m\"\u001b[39;49m\u001b[38;5;124;43mGrades\u001b[39;49m\u001b[38;5;124;43m\"\u001b[39;49m\u001b[43m)\u001b[49m\n",
      "File \u001b[1;32mc:\\School\\ECS165A\\Project\\165a-winter-2025-namepending\\lstore\\db.py:46\u001b[0m, in \u001b[0;36mDatabase.get_table\u001b[1;34m(self, name)\u001b[0m\n\u001b[0;32m     44\u001b[0m     \u001b[38;5;28;01mif\u001b[39;00m table\u001b[38;5;241m.\u001b[39mname \u001b[38;5;241m==\u001b[39m name:\n\u001b[0;32m     45\u001b[0m         \u001b[38;5;28;01mreturn\u001b[39;00m table\n\u001b[1;32m---> 46\u001b[0m \u001b[38;5;28;01mraise\u001b[39;00m \u001b[38;5;167;01mException\u001b[39;00m(\u001b[38;5;124mf\u001b[39m\u001b[38;5;124m\"\u001b[39m\u001b[38;5;124mTable \u001b[39m\u001b[38;5;132;01m{\u001b[39;00mname\u001b[38;5;132;01m}\u001b[39;00m\u001b[38;5;124m not found, could not get\u001b[39m\u001b[38;5;124m\"\u001b[39m)\n",
      "\u001b[1;31mException\u001b[0m: Table Grades not found, could not get"
     ]
    }
   ],
   "source": [
    "print(db.tables)\n",
    "db.get_table(\"students\")\n",
    "db.get_table(\"Grades\")"
   ]
  },
  {
   "cell_type": "code",
   "execution_count": null,
   "metadata": {},
   "outputs": [
    {
     "name": "stdout",
     "output_type": "stream",
     "text": [
      "database: []\n"
     ]
    }
   ],
   "source": [
    "db.drop_table(\"students\")\n",
    "db.drop_table(\"Class\")\n",
    "db.drop_table(\"GPA\")\n",
    "print(\"database:\", db.tables)"
   ]
  }
 ],
 "metadata": {
  "kernelspec": {
   "display_name": "Python 3",
   "language": "python",
   "name": "python3"
  },
  "language_info": {
   "codemirror_mode": {
    "name": "ipython",
    "version": 3
   },
   "file_extension": ".py",
   "mimetype": "text/x-python",
   "name": "python",
   "nbconvert_exporter": "python",
   "pygments_lexer": "ipython3",
   "version": "3.10.10"
  }
 },
 "nbformat": 4,
 "nbformat_minor": 2
}
